{
 "cells": [
  {
   "cell_type": "code",
   "execution_count": 2,
   "metadata": {
    "scrolled": false
   },
   "outputs": [
    {
     "name": "stdout",
     "output_type": "stream",
     "text": [
      "                          text\n",
      "0             Николай Некрасов\n",
      "1     КОМУ НА РУСИ ЖИТЬ ХОРОШО\n",
      "2                 ЧАСТЬ ПЕРВАЯ\n",
      "3                       Пролог\n",
      "4  В каком году — рассчитывай,\n"
     ]
    }
   ],
   "source": [
    "import pandas as pd\n",
    "file=pd.read_csv(\"C:/QRG/Python/nekrasov.txt\",sep=\"\\t\",names=[\"text\"])\n",
    "df=pd.DataFrame(file)\n",
    "print(df[0:5])\n"
   ]
  },
  {
   "cell_type": "code",
   "execution_count": 98,
   "metadata": {
    "scrolled": true
   },
   "outputs": [
    {
     "data": {
      "text/plain": [
       "0.999727944286576"
      ]
     },
     "execution_count": 98,
     "metadata": {},
     "output_type": "execute_result"
    }
   ],
   "source": [
    "import gensim\n",
    "from gensim.parsing.preprocessing import preprocess_string\n",
    "from gensim.parsing.preprocessing import strip_punctuation\n",
    "from gensim.parsing.preprocessing import stem_text\n",
    "from gensim.parsing.preprocessing import remove_stopwords\n",
    "\n",
    "punctuations=\"!?()-—««—\"\n",
    "stop_words=[\"и\",\"он\",\"что\"]\n",
    "\n",
    "#преобразуем текстовый файл в последовательность слов\n",
    "#делаем нормализацию текста (раскладка, пунктуация, стоп-слова)\n",
    "\"\"\"\n",
    "s=str(pd.read_csv(\"C:/QRG/Python/tolstoy.txt\",sep=\"\\t\",names=[\"text\"]))\n",
    "s=unicode(s,\"utf-8\")\n",
    "s=s.lower()\n",
    "s=s.split(\".\")\n",
    "#print(s)\n",
    "\n",
    "no_punct=\"\"\n",
    "for char in s:\n",
    "    if char not in punctuations:\n",
    "            no_punct=no_punct+char\n",
    "s=no_punct\n",
    "\"\"\"\n",
    "\n",
    "#предобработка предложений\n",
    "doc=gensim.models.word2vec.LineSentence(\"C:/QRG/Python/nekrasov.txt\")\n",
    "doc2=gensim.models.word2vec.LineSentence(\"C:/QRG/Python/tolstoy.txt\")\n",
    "#bigram=gensim.models.Phrases(doc2)\n",
    "#print(bigram[doc2])\n",
    "\n",
    "#начинаем инициализировать и тренировать модель word2vec\n",
    "model = gensim.models.Word2Vec(min_count=0)\n",
    "#для фраз подавать на вход bigram[doc2]\n",
    "model.build_vocab(doc2,min_count=0)\n",
    "model.train(doc2,total_examples=model.corpus_count,epochs=5)\n",
    "\n",
    "#интерпретация модели\n",
    "model.wv.vocab\n",
    "#model.wv.most_similar(positive=[\"Болконский\"],negative=[\"Безухов\"])\n",
    "#model.wv.most_similar(\"Кутузов\",topn=150)\n",
    "model.wv.similarity(\"Кутузов\",\"лошадь\")\n",
    "#model.wv[\"Безухов\"]"
   ]
  },
  {
   "cell_type": "code",
   "execution_count": 99,
   "metadata": {},
   "outputs": [
    {
     "data": {
      "text/plain": [
       "0.9988992054404737"
      ]
     },
     "execution_count": 99,
     "metadata": {},
     "output_type": "execute_result"
    }
   ],
   "source": [
    "model.wv.similarity(\"Кутузов\",\"французы\")"
   ]
  },
  {
   "cell_type": "code",
   "execution_count": 100,
   "metadata": {},
   "outputs": [
    {
     "data": {
      "text/plain": [
       "0.9883201226901857"
      ]
     },
     "execution_count": 100,
     "metadata": {},
     "output_type": "execute_result"
    }
   ],
   "source": [
    "model.wv.similarity(\"Кутузов\",\"Москва\")"
   ]
  },
  {
   "cell_type": "code",
   "execution_count": null,
   "metadata": {
    "collapsed": true
   },
   "outputs": [],
   "source": []
  }
 ],
 "metadata": {
  "kernelspec": {
   "display_name": "Python 3",
   "language": "python",
   "name": "python3"
  },
  "language_info": {
   "codemirror_mode": {
    "name": "ipython",
    "version": 3
   },
   "file_extension": ".py",
   "mimetype": "text/x-python",
   "name": "python",
   "nbconvert_exporter": "python",
   "pygments_lexer": "ipython3",
   "version": "3.6.3"
  }
 },
 "nbformat": 4,
 "nbformat_minor": 2
}
